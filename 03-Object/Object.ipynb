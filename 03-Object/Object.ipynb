{
 "cells": [
  {
   "cell_type": "markdown",
   "metadata": {},
   "source": [
    "# Linear Progession"
   ]
  },
  {
   "cell_type": "code",
   "execution_count": 1,
   "metadata": {},
   "outputs": [],
   "source": [
    "import numpy as np\n",
    "import  matplotlib\n",
    "%matplotlib inline "
   ]
  },
  {
   "cell_type": "code",
   "execution_count": 15,
   "metadata": {},
   "outputs": [
    {
     "name": "stdout",
     "output_type": "stream",
     "text": [
      "[[0. 0.]\n",
      " [0. 0.]\n",
      " [0. 0.]]\n"
     ]
    }
   ],
   "source": [
    "x = np.zeros ([3,2])\n",
    "print (x)\n",
    "x[0,1] = 1\n",
    "x[1,1] = 9\n",
    "x[2,0] = 12\n",
    "x[2,1] = 5"
   ]
  },
  {
   "cell_type": "code",
   "execution_count": 16,
   "metadata": {},
   "outputs": [
    {
     "data": {
      "text/plain": [
       "<matplotlib.image.AxesImage at 0x1152cd5a0>"
      ]
     },
     "execution_count": 16,
     "metadata": {},
     "output_type": "execute_result"
    },
    {
     "data": {
      "image/png": "[encoded data removed]",
      "text/plain": [
       "<Figure size 640x480 with 1 Axes>"
      ]
     },
     "metadata": {},
     "output_type": "display_data"
    }
   ],
   "source": [
    "matplotlib.pyplot.imshow (x, interpolation = \"nearest\")"
   ]
  },
  {
   "cell_type": "markdown",
   "metadata": {},
   "source": [
    "### Membuat Class (Object)"
   ]
  },
  {
   "cell_type": "code",
   "execution_count": 41,
   "metadata": {},
   "outputs": [],
   "source": [
    "# Membuat object Mobil\n",
    "class Mobil :\n",
    "\n",
    "    def __deklarasi__ (car, nama_mobil, tipe_mobil):\n",
    "        car.nama = nama_mobil\n",
    "        car.tipe = tipe_mobil\n",
    "        pass #optional, boleh pake boleh tidak\n",
    "\n",
    "    def tampilan (car):\n",
    "        print (f\"Nama mobil adalah {car.nama}\")\n",
    "        print (f\"Tipe mobil adalah {car.tipe}\\n\")\n",
    "        pass\n",
    "\n",
    "    def asal (car, tempat):\n",
    "        print (f\"Asal mobil dari {tempat}\")\n",
    "\n",
    "    def suara (car, bunyi) :\n",
    "        print (f\"Suaranya begini {bunyi}\")\n",
    "        pass\n",
    "    \n",
    "    pass"
   ]
  },
  {
   "cell_type": "code",
   "execution_count": 42,
   "metadata": {},
   "outputs": [
    {
     "name": "stdout",
     "output_type": "stream",
     "text": [
      "Nama mobil adalah Avanza\n",
      "Tipe mobil adalah 1.4\n",
      "\n",
      "Asal mobil dari Jawa Tengah\n",
      "Suaranya begini Roarrrrrr\n"
     ]
    }
   ],
   "source": [
    "mobil1 = Mobil ()\n",
    "\n",
    "mobil1.__deklarasi__ (\"Avanza\", 1.4)\n",
    "mobil1.tampilan ()\n",
    "\n",
    "mobil1.asal (\"Jawa Tengah\")\n",
    "mobil1.suara (\"Roarrrrrr\")"
   ]
  }
 ],
 "metadata": {
  "kernelspec": {
   "display_name": "Python 3.10.5 ('Env': venv)",
   "language": "python",
   "name": "python3"
  },
  "language_info": {
   "codemirror_mode": {
    "name": "ipython",
    "version": 3
   },
   "file_extension": ".py",
   "mimetype": "text/x-python",
   "name": "python",
   "nbconvert_exporter": "python",
   "pygments_lexer": "ipython3",
   "version": "3.10.5"
  },
  "orig_nbformat": 4,
  "vscode": {
   "interpreter": {
    "hash": "b0b756ae7978b230c6c1d6ddf35a41ac97dc6f36a1ddd86485c4d624c35330fc"
   }
  }
 },
 "nbformat": 4,
 "nbformat_minor": 2
}
