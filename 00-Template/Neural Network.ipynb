{
 "cells": [
  {
   "cell_type": "markdown",
   "metadata": {},
   "source": [
    "# Linear Progession"
   ]
  },
  {
   "cell_type": "code",
   "execution_count": 1,
   "metadata": {},
   "outputs": [],
   "source": [
    "import numpy as np\n",
    "import  matplotlib\n",
    "%matplotlib inline "
   ]
  },
  {
   "cell_type": "markdown",
   "metadata": {},
   "source": [
    "#### Skeleton Code"
   ]
  },
  {
   "cell_type": "code",
   "execution_count": 2,
   "metadata": {},
   "outputs": [],
   "source": [
    "\n",
    "# Object Neural Network\n",
    "class Neural_Network : \n",
    "\n",
    "    # Melakukan inisiasi\n",
    "    def __init__ (NN, innodes, hdnodes, outnodes, lr) :\n",
    "\n",
    "        # Mensetting setiap nodes\n",
    "\n",
    "        NN.input_nodes = innodes \n",
    "        NN.hidden_nodes = hdnodes\n",
    "        NN.output_nodes = outnodes\n",
    "        \n",
    "        # Mensetting learning rate\n",
    "        NN.learning_rate = lr\n",
    "\n",
    "        pass\n",
    "\n",
    "    # Melatih data    \n",
    "    def train () :\n",
    "\n",
    "        pass\n",
    "    \n",
    "    # Bertanya\n",
    "    def query () :\n",
    "\n",
    "        pass\n",
    "\n",
    "    pass\n"
   ]
  },
  {
   "cell_type": "code",
   "execution_count": 3,
   "metadata": {},
   "outputs": [],
   "source": [
    "# Memasukan nilai pada 3 nodes\n",
    "\n",
    "input_node = 3\n",
    "hidden_node = 3\n",
    "output_node = 3\n",
    "\n",
    "# Memasukan besar dari learning rate\n",
    "\n",
    "learning_rate = 0.5\n",
    "\n",
    "hasil = Neural_Network (input_node, hidden_node, output_node, learning_rate)\n"
   ]
  },
  {
   "cell_type": "code",
   "execution_count": 34,
   "metadata": {},
   "outputs": [
    {
     "name": "stdout",
     "output_type": "stream",
     "text": [
      "[[-0.37055153 -0.28320017 -0.05988614]\n",
      " [ 0.13040697 -0.22122674  0.13840516]\n",
      " [ 0.31175703 -0.17299173  0.14993451]]\n"
     ]
    }
   ],
   "source": [
    "weight = np.random.rand (3, 3) - 0.5 # link weight secara random dari (-0.1 sampe +0.1) \n",
    "print (weight)"
   ]
  },
  {
   "cell_type": "markdown",
   "metadata": {},
   "source": [
    "#### Coba hal lain"
   ]
  },
  {
   "cell_type": "code",
   "execution_count": 51,
   "metadata": {},
   "outputs": [
    {
     "name": "stdout",
     "output_type": "stream",
     "text": [
      "[[1 1]\n",
      " [1 2]]\n",
      "\n",
      "\n",
      "[[ 0.7535378   0.57243135  1.50174484]\n",
      " [ 1.21957807  0.89716804 -1.69656359]\n",
      " [ 0.21830236  0.91924154  0.32473574]]\n",
      "\n",
      "\n",
      "[[-13.78480046 -15.26619039]\n",
      " [  1.64860117  10.23151436]]\n"
     ]
    }
   ],
   "source": [
    "x = np.random.randint (1, 3, size= (2,2))\n",
    "# 1 = batas bawah, 3 = batas atas, size = bentuk\n",
    "print (x)\n",
    "\n",
    "print (\"\\n\")\n",
    "\n",
    "x = np.random.randn (3,3)\n",
    "# randn = standard normal distribusi\n",
    "print (x)\n",
    "\n",
    "print (\"\\n\")\n",
    "\n",
    "s = np.random.normal (loc=0.1, scale=10.0, size=(2,2)) \n",
    "# loc = mean, scale = standard deviasi, size = bentuk \n",
    "print (s)"
   ]
  }
 ],
 "metadata": {
  "kernelspec": {
   "display_name": "Python 3.10.5 ('Env': venv)",
   "language": "python",
   "name": "python3"
  },
  "language_info": {
   "codemirror_mode": {
    "name": "ipython",
    "version": 3
   },
   "file_extension": ".py",
   "mimetype": "text/x-python",
   "name": "python",
   "nbconvert_exporter": "python",
   "pygments_lexer": "ipython3",
   "version": "3.10.5"
  },
  "orig_nbformat": 4,
  "vscode": {
   "interpreter": {
    "hash": "b0b756ae7978b230c6c1d6ddf35a41ac97dc6f36a1ddd86485c4d624c35330fc"
   }
  }
 },
 "nbformat": 4,
 "nbformat_minor": 2
}
